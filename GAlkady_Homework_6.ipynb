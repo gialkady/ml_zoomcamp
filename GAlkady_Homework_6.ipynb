{
 "cells": [
  {
   "cell_type": "markdown",
   "id": "95078133",
   "metadata": {},
   "source": [
    "# Homework 6"
   ]
  },
  {
   "cell_type": "markdown",
   "id": "97dc180b",
   "metadata": {},
   "source": [
    "The goal of this homework is to create a tree-based regression model for prediction apartment prices (column 'price').\n",
    "\n",
    "In this homework we'll again use the New York City Airbnb Open Data dataset - the same one we used in homework 2 and 3.\n",
    "\n",
    "You can take it from Kaggle or download from here if you don't want to sign up to Kaggle.\n",
    "\n",
    "Let's load the data:"
   ]
  },
  {
   "cell_type": "markdown",
   "id": "af97d18a",
   "metadata": {},
   "source": [
    "# Import Libraries\n"
   ]
  },
  {
   "cell_type": "code",
   "execution_count": 50,
   "id": "ed601b11",
   "metadata": {},
   "outputs": [],
   "source": [
    "import pandas as pd\n",
    "import numpy as np\n",
    "\n",
    "import matplotlib.pyplot as plt\n",
    "import seaborn as sns\n",
    "\n",
    "%matplotlib inline"
   ]
  },
  {
   "cell_type": "markdown",
   "id": "d54f0972",
   "metadata": {},
   "source": [
    "# Loading the data"
   ]
  },
  {
   "cell_type": "code",
   "execution_count": 51,
   "id": "7ff1d50c",
   "metadata": {},
   "outputs": [],
   "source": [
    "columns = [\n",
    "    'neighbourhood_group', 'room_type', 'latitude', 'longitude',\n",
    "    'minimum_nights', 'number_of_reviews','reviews_per_month',\n",
    "    'calculated_host_listings_count', 'availability_365',\n",
    "    'price'\n",
    "]\n",
    "\n",
    "df = pd.read_csv('AB_NYC_2019.csv', usecols=columns)\n",
    "df.reviews_per_month = df.reviews_per_month.fillna(0)"
   ]
  },
  {
   "cell_type": "code",
   "execution_count": 52,
   "id": "4829a736",
   "metadata": {},
   "outputs": [],
   "source": [
    "df.columns = df.columns.str.lower()"
   ]
  },
  {
   "cell_type": "markdown",
   "id": "141a117b",
   "metadata": {},
   "source": [
    "- Apply the log tranform to price\n",
    "- Do train/validation/test split with 60%/20%/20% distribution.\n",
    "- Use the train_test_split function and set the random_state parameter to 1"
   ]
  },
  {
   "cell_type": "code",
   "execution_count": 53,
   "id": "bc90bb01",
   "metadata": {},
   "outputs": [],
   "source": [
    "from sklearn.model_selection import train_test_split\n",
    "df_full_train,df_test = train_test_split(df,test_size=0.2,random_state=1)\n",
    "df_train,df_val= train_test_split(df_full_train,test_size=0.25,random_state=1)"
   ]
  },
  {
   "cell_type": "code",
   "execution_count": 54,
   "id": "0112b6a4",
   "metadata": {},
   "outputs": [],
   "source": [
    "#make index not shuffeled \n",
    "df_train = df_train.reset_index(drop=True)\n",
    "df_val = df_val.reset_index(drop=True)\n",
    "df_test = df_test.reset_index(drop=True)"
   ]
  },
  {
   "cell_type": "code",
   "execution_count": 55,
   "id": "d7137cf4",
   "metadata": {},
   "outputs": [],
   "source": [
    "y_train = np.log1p(df_train.price.values)\n",
    "y_val = np.log1p(df_val.price.values)\n",
    "y_test = np.log1p(df_test.price.values)"
   ]
  },
  {
   "cell_type": "code",
   "execution_count": 56,
   "id": "edcff8d2",
   "metadata": {},
   "outputs": [],
   "source": [
    "del df_train['price']\n",
    "del df_val['price']\n",
    "del df_test['price']"
   ]
  },
  {
   "cell_type": "markdown",
   "id": "17b1bf02",
   "metadata": {},
   "source": [
    "Now, use DictVectorizer to turn train and validation into matrices:"
   ]
  },
  {
   "cell_type": "code",
   "execution_count": 57,
   "id": "a87f8a46",
   "metadata": {},
   "outputs": [],
   "source": [
    "from sklearn.feature_extraction import DictVectorizer\n",
    "from sklearn.metrics import roc_auc_score"
   ]
  },
  {
   "cell_type": "code",
   "execution_count": 58,
   "id": "8782f419",
   "metadata": {},
   "outputs": [],
   "source": [
    "train_dicts = df_train.fillna(0).to_dict(orient='records')"
   ]
  },
  {
   "cell_type": "code",
   "execution_count": 59,
   "id": "070e6132",
   "metadata": {},
   "outputs": [],
   "source": [
    "dv = DictVectorizer(sparse=False)\n",
    "X_train = dv.fit_transform(train_dicts) #feature matrix"
   ]
  },
  {
   "cell_type": "code",
   "execution_count": 60,
   "id": "6c8aff62",
   "metadata": {},
   "outputs": [],
   "source": [
    "val_dicts = df_val.fillna(0).to_dict(orient='records')\n",
    "X_val = dv.transform(val_dicts)"
   ]
  },
  {
   "cell_type": "markdown",
   "id": "ebeb08d1",
   "metadata": {},
   "source": [
    "# Question 1"
   ]
  },
  {
   "cell_type": "markdown",
   "id": "95bb04ec",
   "metadata": {},
   "source": [
    "Let's train a decision tree regressor to predict the price variable."
   ]
  },
  {
   "cell_type": "markdown",
   "id": "6eeb907f",
   "metadata": {},
   "source": [
    "Train a model with max_depth=1"
   ]
  },
  {
   "cell_type": "code",
   "execution_count": 61,
   "id": "8562deff",
   "metadata": {},
   "outputs": [],
   "source": [
    "from sklearn.tree import DecisionTreeRegressor\n",
    "from sklearn.tree import export_text"
   ]
  },
  {
   "cell_type": "code",
   "execution_count": 62,
   "id": "623acd45",
   "metadata": {},
   "outputs": [
    {
     "data": {
      "text/plain": [
       "DecisionTreeRegressor(max_depth=1)"
      ]
     },
     "execution_count": 62,
     "metadata": {},
     "output_type": "execute_result"
    }
   ],
   "source": [
    "dt = DecisionTreeRegressor(max_depth=1)\n",
    "dt.fit(X_train,y_train)"
   ]
  },
  {
   "cell_type": "code",
   "execution_count": 63,
   "id": "6b90bc35",
   "metadata": {},
   "outputs": [
    {
     "name": "stdout",
     "output_type": "stream",
     "text": [
      "|--- room_type=Entire home/apt <= 0.50\n",
      "|   |--- value: [4.29]\n",
      "|--- room_type=Entire home/apt >  0.50\n",
      "|   |--- value: [5.15]\n",
      "\n"
     ]
    }
   ],
   "source": [
    "print (export_text(dt, feature_names=dv.get_feature_names()))"
   ]
  },
  {
   "cell_type": "markdown",
   "id": "35e83cad",
   "metadata": {},
   "source": [
    "Which feature is used for splitting the data?\n",
    "\n",
    "- room_type\n",
    "- neighbourhood_group\n",
    "- number_of_reviews\n",
    "- reviews_per_month"
   ]
  },
  {
   "cell_type": "markdown",
   "id": "b70109bf",
   "metadata": {},
   "source": [
    "Answer: room_type"
   ]
  },
  {
   "cell_type": "markdown",
   "id": "315564ea",
   "metadata": {},
   "source": [
    "# Question 2"
   ]
  },
  {
   "cell_type": "markdown",
   "id": "f0da6a46",
   "metadata": {},
   "source": [
    "Train a random forest model with these parameters:\n",
    "\n",
    "- n_estimators=10\n",
    "- random_state=1\n",
    "- n_jobs=-1 (optional - to make training faster)"
   ]
  },
  {
   "cell_type": "code",
   "execution_count": 64,
   "id": "6058964c",
   "metadata": {},
   "outputs": [],
   "source": [
    "from sklearn.ensemble import RandomForestRegressor"
   ]
  },
  {
   "cell_type": "code",
   "execution_count": 65,
   "id": "0f676994",
   "metadata": {},
   "outputs": [
    {
     "data": {
      "text/plain": [
       "RandomForestRegressor(n_estimators=10, n_jobs=-1, random_state=1)"
      ]
     },
     "execution_count": 65,
     "metadata": {},
     "output_type": "execute_result"
    }
   ],
   "source": [
    "rf = RandomForestRegressor(n_estimators=10,\n",
    "                            random_state=1,\n",
    "                           n_jobs=-1)\n",
    "rf.fit(X_train, y_train)"
   ]
  },
  {
   "cell_type": "markdown",
   "id": "b0db6378",
   "metadata": {},
   "source": [
    "What's the RMSE of this model on validation?\n",
    "\n",
    "- 0.059\n",
    "- 0.259\n",
    "- 0.459\n",
    "- 0.659"
   ]
  },
  {
   "cell_type": "code",
   "execution_count": 66,
   "id": "0727b10d",
   "metadata": {},
   "outputs": [
    {
     "data": {
      "text/plain": [
       "array([4.87505509, 4.79647079, 5.38940092, ..., 5.15387428, 4.76825667,\n",
       "       5.31395147])"
      ]
     },
     "execution_count": 66,
     "metadata": {},
     "output_type": "execute_result"
    }
   ],
   "source": [
    "y_pred = rf.predict(X_val)\n",
    "y_pred"
   ]
  },
  {
   "cell_type": "code",
   "execution_count": 67,
   "id": "ed1f5c85",
   "metadata": {},
   "outputs": [],
   "source": [
    "def rmse(y, y_pred):\n",
    "    se = (y - y_pred) ** 2\n",
    "    mse = se.mean()\n",
    "    return np.sqrt(mse)"
   ]
  },
  {
   "cell_type": "code",
   "execution_count": 68,
   "id": "d4a57e43",
   "metadata": {},
   "outputs": [
    {
     "name": "stdout",
     "output_type": "stream",
     "text": [
      " RMSE of this model on validation : 0.4615632303514057\n"
     ]
    }
   ],
   "source": [
    "model_rmse = rmse(y_val,y_pred)\n",
    "print(\" RMSE of this model on validation : %s\" %(model_rmse))"
   ]
  },
  {
   "cell_type": "markdown",
   "id": "c92c1648",
   "metadata": {},
   "source": [
    "Answer: 0.459"
   ]
  },
  {
   "cell_type": "markdown",
   "id": "957957b2",
   "metadata": {},
   "source": [
    "# Question 3"
   ]
  },
  {
   "cell_type": "markdown",
   "id": "05121533",
   "metadata": {},
   "source": [
    "Now let's experiment with the n_estimators parameter\n",
    "\n",
    "- Try different values of this parameter from 10 to 200 with step 10\n",
    "- Set random_state to 1\n",
    "- Evaluate the model on the validation dataset"
   ]
  },
  {
   "cell_type": "code",
   "execution_count": 69,
   "id": "f60a6604",
   "metadata": {},
   "outputs": [
    {
     "name": "stdout",
     "output_type": "stream",
     "text": [
      "Est :   10 , RMSE : 0.462 \n",
      "Est :   20 , RMSE : 0.448 \n",
      "Est :   30 , RMSE : 0.446 \n",
      "Est :   40 , RMSE : 0.444 \n",
      "Est :   50 , RMSE : 0.442 \n",
      "Est :   60 , RMSE : 0.442 \n",
      "Est :   70 , RMSE : 0.441 \n",
      "Est :   80 , RMSE : 0.441 \n",
      "Est :   90 , RMSE : 0.441 \n",
      "Est :  100 , RMSE : 0.440 \n",
      "Est :  110 , RMSE : 0.439 \n",
      "Est :  120 , RMSE : 0.439 \n",
      "Est :  130 , RMSE : 0.439 \n",
      "Est :  140 , RMSE : 0.439 \n",
      "Est :  150 , RMSE : 0.439 \n",
      "Est :  160 , RMSE : 0.439 \n",
      "Est :  170 , RMSE : 0.439 \n",
      "Est :  180 , RMSE : 0.439 \n",
      "Est :  190 , RMSE : 0.439 \n",
      "Est :  200 , RMSE : 0.439 \n"
     ]
    }
   ],
   "source": [
    "scores=[]\n",
    "for n in range(10,201,10):\n",
    "    rf = RandomForestRegressor(n_estimators=n,random_state=1,n_jobs=-1)\n",
    "    rf.fit(X_train, y_train)\n",
    "\n",
    "    y_pred = rf.predict(X_val)\n",
    "    model_rmse =  rmse(y_val,y_pred)\n",
    "    scores.append((n,model_rmse))\n",
    "    print(\"Est : %4s , RMSE : %.3f \" %(n, model_rmse))\n"
   ]
  },
  {
   "cell_type": "markdown",
   "id": "1b83ceee",
   "metadata": {},
   "source": [
    "After which value of n_estimators does RMSE stop improving?\n",
    "\n",
    "- 10\n",
    "- 50\n",
    "- 70\n",
    "- 120"
   ]
  },
  {
   "cell_type": "markdown",
   "id": "b8fb9451",
   "metadata": {},
   "source": [
    "Answer: 120"
   ]
  },
  {
   "cell_type": "markdown",
   "id": "417b00d2",
   "metadata": {},
   "source": [
    "# Question 4"
   ]
  },
  {
   "cell_type": "markdown",
   "id": "4b1425f5",
   "metadata": {},
   "source": [
    "Let's select the best max_depth:\n",
    "\n",
    "- Try different values of max_depth: [10, 15, 20, 25]\n",
    "- For each of these values, try different values of n_estimators from 10 till 200 (with step 10)\n",
    "- Fix the random seed: random_state=1"
   ]
  },
  {
   "cell_type": "code",
   "execution_count": 70,
   "id": "744554c3",
   "metadata": {},
   "outputs": [
    {
     "name": "stdout",
     "output_type": "stream",
     "text": [
      "Depth:  10 , Est :   10 , RMSE : 0.446 \n",
      "Depth:  10 , Est :   20 , RMSE : 0.442 \n",
      "Depth:  10 , Est :   30 , RMSE : 0.441 \n",
      "Depth:  10 , Est :   40 , RMSE : 0.441 \n",
      "Depth:  10 , Est :   50 , RMSE : 0.441 \n",
      "Depth:  10 , Est :   60 , RMSE : 0.441 \n",
      "Depth:  10 , Est :   70 , RMSE : 0.441 \n",
      "Depth:  10 , Est :   80 , RMSE : 0.441 \n",
      "Depth:  10 , Est :   90 , RMSE : 0.440 \n",
      "Depth:  10 , Est :  100 , RMSE : 0.440 \n",
      "Depth:  10 , Est :  110 , RMSE : 0.440 \n",
      "Depth:  10 , Est :  120 , RMSE : 0.440 \n",
      "Depth:  10 , Est :  130 , RMSE : 0.440 \n",
      "Depth:  10 , Est :  140 , RMSE : 0.440 \n",
      "Depth:  10 , Est :  150 , RMSE : 0.440 \n",
      "Depth:  10 , Est :  160 , RMSE : 0.440 \n",
      "Depth:  10 , Est :  170 , RMSE : 0.440 \n",
      "Depth:  10 , Est :  180 , RMSE : 0.440 \n",
      "Depth:  10 , Est :  190 , RMSE : 0.440 \n",
      "Depth:  10 , Est :  200 , RMSE : 0.440 \n",
      "Depth:  15 , Est :   10 , RMSE : 0.450 \n",
      "Depth:  15 , Est :   20 , RMSE : 0.441 \n",
      "Depth:  15 , Est :   30 , RMSE : 0.440 \n",
      "Depth:  15 , Est :   40 , RMSE : 0.439 \n",
      "Depth:  15 , Est :   50 , RMSE : 0.438 \n",
      "Depth:  15 , Est :   60 , RMSE : 0.438 \n",
      "Depth:  15 , Est :   70 , RMSE : 0.437 \n",
      "Depth:  15 , Est :   80 , RMSE : 0.437 \n",
      "Depth:  15 , Est :   90 , RMSE : 0.437 \n",
      "Depth:  15 , Est :  100 , RMSE : 0.437 \n",
      "Depth:  15 , Est :  110 , RMSE : 0.436 \n",
      "Depth:  15 , Est :  120 , RMSE : 0.436 \n",
      "Depth:  15 , Est :  130 , RMSE : 0.436 \n",
      "Depth:  15 , Est :  140 , RMSE : 0.436 \n",
      "Depth:  15 , Est :  150 , RMSE : 0.436 \n",
      "Depth:  15 , Est :  160 , RMSE : 0.436 \n",
      "Depth:  15 , Est :  170 , RMSE : 0.436 \n",
      "Depth:  15 , Est :  180 , RMSE : 0.436 \n",
      "Depth:  15 , Est :  190 , RMSE : 0.436 \n",
      "Depth:  15 , Est :  200 , RMSE : 0.436 \n",
      "Depth:  20 , Est :   10 , RMSE : 0.458 \n",
      "Depth:  20 , Est :   20 , RMSE : 0.446 \n",
      "Depth:  20 , Est :   30 , RMSE : 0.443 \n",
      "Depth:  20 , Est :   40 , RMSE : 0.442 \n",
      "Depth:  20 , Est :   50 , RMSE : 0.441 \n",
      "Depth:  20 , Est :   60 , RMSE : 0.440 \n",
      "Depth:  20 , Est :   70 , RMSE : 0.440 \n",
      "Depth:  20 , Est :   80 , RMSE : 0.440 \n",
      "Depth:  20 , Est :   90 , RMSE : 0.439 \n",
      "Depth:  20 , Est :  100 , RMSE : 0.439 \n",
      "Depth:  20 , Est :  110 , RMSE : 0.438 \n",
      "Depth:  20 , Est :  120 , RMSE : 0.438 \n",
      "Depth:  20 , Est :  130 , RMSE : 0.438 \n",
      "Depth:  20 , Est :  140 , RMSE : 0.438 \n",
      "Depth:  20 , Est :  150 , RMSE : 0.438 \n",
      "Depth:  20 , Est :  160 , RMSE : 0.438 \n",
      "Depth:  20 , Est :  170 , RMSE : 0.438 \n",
      "Depth:  20 , Est :  180 , RMSE : 0.438 \n",
      "Depth:  20 , Est :  190 , RMSE : 0.438 \n",
      "Depth:  20 , Est :  200 , RMSE : 0.438 \n",
      "Depth:  25 , Est :   10 , RMSE : 0.461 \n",
      "Depth:  25 , Est :   20 , RMSE : 0.447 \n",
      "Depth:  25 , Est :   30 , RMSE : 0.445 \n",
      "Depth:  25 , Est :   40 , RMSE : 0.443 \n",
      "Depth:  25 , Est :   50 , RMSE : 0.442 \n",
      "Depth:  25 , Est :   60 , RMSE : 0.442 \n",
      "Depth:  25 , Est :   70 , RMSE : 0.441 \n",
      "Depth:  25 , Est :   80 , RMSE : 0.441 \n",
      "Depth:  25 , Est :   90 , RMSE : 0.440 \n",
      "Depth:  25 , Est :  100 , RMSE : 0.440 \n",
      "Depth:  25 , Est :  110 , RMSE : 0.439 \n",
      "Depth:  25 , Est :  120 , RMSE : 0.439 \n",
      "Depth:  25 , Est :  130 , RMSE : 0.439 \n",
      "Depth:  25 , Est :  140 , RMSE : 0.439 \n",
      "Depth:  25 , Est :  150 , RMSE : 0.439 \n",
      "Depth:  25 , Est :  160 , RMSE : 0.439 \n",
      "Depth:  25 , Est :  170 , RMSE : 0.439 \n",
      "Depth:  25 , Est :  180 , RMSE : 0.439 \n",
      "Depth:  25 , Est :  190 , RMSE : 0.439 \n",
      "Depth:  25 , Est :  200 , RMSE : 0.439 \n"
     ]
    }
   ],
   "source": [
    "rmse_scores2=[]\n",
    "for d in [10,15,20,25]:\n",
    "    for n in range(10,201,10):\n",
    "        rf = RandomForestRegressor(n_estimators=n,max_depth=d,random_state=1,n_jobs=-1)\n",
    "        rf.fit(X_train, y_train)\n",
    "\n",
    "        y_pred = rf.predict(X_val)\n",
    "        model_rmse =  rmse(y_val,y_pred)\n",
    "        rmse_scores2.append((n,model_rmse))\n",
    "        print(\"Depth:  %s , Est : %4s , RMSE : %.3f \" %(d,n, model_rmse))"
   ]
  },
  {
   "cell_type": "markdown",
   "id": "430112fc",
   "metadata": {},
   "source": [
    "What's the best max_depth:\n",
    "\n",
    "- 10\n",
    "- 15\n",
    "- 20\n",
    "- 25"
   ]
  },
  {
   "cell_type": "markdown",
   "id": "59a258bf",
   "metadata": {},
   "source": [
    "Answer: 25"
   ]
  },
  {
   "cell_type": "markdown",
   "id": "e9b08d0e",
   "metadata": {},
   "source": [
    "Bonus question (not graded):\n",
    "\n",
    "- Will the answer be different if we change the seed for the model?"
   ]
  },
  {
   "cell_type": "markdown",
   "id": "a6779e73",
   "metadata": {},
   "source": [
    "Answer: yes"
   ]
  },
  {
   "cell_type": "markdown",
   "id": "43838758",
   "metadata": {},
   "source": [
    "# Question 5"
   ]
  },
  {
   "cell_type": "markdown",
   "id": "4e0d7582",
   "metadata": {},
   "source": [
    "We can extract feature importance information from tree-based models.\n",
    "\n",
    "At each step of the decision tree learning algorith, it finds the best split. When doint it, we can calculate \"gain\" - the reduction in impurity before and after the split. This gain is quite useful in understanding what are the imporatant features for tree-based models.\n",
    "\n",
    "In Scikit-Learn, tree-based models contain this information in the feature_importances_ field.\n",
    "\n",
    "For this homework question, we'll find the most important feature:\n",
    "\n",
    "Train the model with these parametes:\n",
    "- n_estimators=10,\n",
    "- max_depth=20,\n",
    "- random_state=1,\n",
    "- n_jobs=-1 (optional)\n",
    "- Get the feature importance information from this model"
   ]
  },
  {
   "cell_type": "code",
   "execution_count": 71,
   "id": "82d90851",
   "metadata": {},
   "outputs": [
    {
     "name": "stdout",
     "output_type": "stream",
     "text": [
      "[(0.076, 'availability_365'), (0.03, 'calculated_host_listings_count'), (0.153, 'latitude'), (0.154, 'longitude'), (0.053, 'minimum_nights'), (0.0, 'neighbourhood_group=Bronx'), (0.001, 'neighbourhood_group=Brooklyn'), (0.034, 'neighbourhood_group=Manhattan'), (0.001, 'neighbourhood_group=Queens'), (0.0, 'neighbourhood_group=Staten Island'), (0.042, 'number_of_reviews'), (0.054, 'reviews_per_month'), (0.392, 'room_type=Entire home/apt'), (0.004, 'room_type=Private room'), (0.005, 'room_type=Shared room')]\n",
      "0.392 room_type=Entire home/apt\n"
     ]
    }
   ],
   "source": [
    "rf1 = RandomForestRegressor(n_estimators=10,max_depth=20,random_state=1,n_jobs=-1)\n",
    "rf1.fit(X_train, y_train)\n",
    "\n",
    "y_pred = rf.predict(X_val)\n",
    "x = rf1.feature_importances_.round(3)\n",
    "y = dv.get_feature_names()\n",
    "print(list(zip(x,y)))\n",
    "print(max(x),y[12])"
   ]
  },
  {
   "cell_type": "markdown",
   "id": "d1856c59",
   "metadata": {},
   "source": [
    "What's the most important feature?\n",
    "\n",
    "- neighbourhood_group=Manhattan -> 0.034\n",
    "- room_type=Entire home/apt -> 0.392\n",
    "- longitude -> 0.154\n",
    "- latitude -> 0.153 "
   ]
  },
  {
   "cell_type": "markdown",
   "id": "daa9efd1",
   "metadata": {},
   "source": [
    "Answer: room_type=Entire home/apt -> 0.392"
   ]
  },
  {
   "cell_type": "markdown",
   "id": "ab8a4814",
   "metadata": {},
   "source": [
    "# Question 6"
   ]
  },
  {
   "cell_type": "markdown",
   "id": "3ddebfcc",
   "metadata": {},
   "source": [
    "Now let's train an XGBoost model! For this question, we'll tune the eta parameter\n",
    "\n",
    "- Install XGBoost\n",
    "- Create DMatrix for train and validation\n",
    "- Create a watchlist\n",
    "- Train a model with these parameters for 100 rounds:\n",
    "- xgb_params = {\n",
    "   - 'eta': 0.3, \n",
    "   - 'max_depth': 6,\n",
    "   -  'min_child_weight': 1,\n",
    "\n",
    "   -  'objective': 'reg:squarederror',\n",
    "   -  'nthread': 8,\n",
    "\n",
    "   -  'seed': 1,\n",
    "   -  'verbosity': 1,\n",
    "}"
   ]
  },
  {
   "cell_type": "code",
   "execution_count": 72,
   "id": "380afcf4",
   "metadata": {},
   "outputs": [
    {
     "name": "stdout",
     "output_type": "stream",
     "text": [
      "Requirement already satisfied: xgboost in /Users/macbookpro/opt/anaconda3/lib/python3.8/site-packages (1.5.0)\r\n",
      "Requirement already satisfied: numpy in /Users/macbookpro/opt/anaconda3/lib/python3.8/site-packages (from xgboost) (1.20.1)\r\n",
      "Requirement already satisfied: scipy in /Users/macbookpro/opt/anaconda3/lib/python3.8/site-packages (from xgboost) (1.6.2)\r\n"
     ]
    }
   ],
   "source": [
    "!pip install xgboost"
   ]
  },
  {
   "cell_type": "code",
   "execution_count": 73,
   "id": "f8ccab34",
   "metadata": {},
   "outputs": [],
   "source": [
    "import xgboost as xgb"
   ]
  },
  {
   "cell_type": "code",
   "execution_count": 74,
   "id": "2e9573ba",
   "metadata": {},
   "outputs": [],
   "source": [
    "features = dv.get_feature_names()\n",
    "\n",
    "dtrain = xgb.DMatrix(X_train,label=y_train,feature_names=features)\n",
    "\n",
    "dval = xgb.DMatrix(X_val,label=y_val,feature_names=features)"
   ]
  },
  {
   "cell_type": "code",
   "execution_count": 75,
   "id": "b2c2d01b",
   "metadata": {},
   "outputs": [],
   "source": [
    "def parse_xgb_output(output):\n",
    "    results = []\n",
    "\n",
    "    for line in output.stdout.strip().split('\\n'):\n",
    "        it_line, train_line, val_line = line.split('\\t')\n",
    "\n",
    "        it = int(it_line.strip('[]'))\n",
    "        train = float(train_line.split(':')[1])\n",
    "        val = float(val_line.split(':')[1])\n",
    "\n",
    "        results.append((it, train, val))\n",
    "    \n",
    "    columns = ['num_iter', 'train_rmse', 'val_rmse']\n",
    "    df_results = pd.DataFrame(results, columns=columns)\n",
    "    return df_results"
   ]
  },
  {
   "cell_type": "code",
   "execution_count": 76,
   "id": "2d5d0a9b",
   "metadata": {},
   "outputs": [],
   "source": [
    "watchlist = [(dtrain,'train'),(dval,'val')]"
   ]
  },
  {
   "cell_type": "code",
   "execution_count": 77,
   "id": "8521afba",
   "metadata": {},
   "outputs": [],
   "source": [
    "scores = {}"
   ]
  },
  {
   "cell_type": "code",
   "execution_count": 78,
   "id": "cb997284",
   "metadata": {},
   "outputs": [],
   "source": [
    "%%capture output\n",
    "\n",
    "xgb_params = {\n",
    "    'eta': 0.3, \n",
    "    'max_depth': 6,\n",
    "    'min_child_weight': 1,\n",
    "    \n",
    "    'objective': 'reg:squarederror',\n",
    "    'nthread': 8,\n",
    "    \n",
    "    'seed': 1,\n",
    "    'verbosity': 1,\n",
    "}\n",
    "\n",
    "model = xgb.train(xgb_params,dtrain,num_boost_round=100,evals=watchlist)"
   ]
  },
  {
   "cell_type": "code",
   "execution_count": 79,
   "id": "e2bae364",
   "metadata": {},
   "outputs": [
    {
     "data": {
      "text/plain": [
       "'eta=0.3'"
      ]
     },
     "execution_count": 79,
     "metadata": {},
     "output_type": "execute_result"
    }
   ],
   "source": [
    "key = 'eta=%s' % (xgb_params['eta'])\n",
    "scores[key] = parse_xgb_output(output)\n",
    "key"
   ]
  },
  {
   "cell_type": "markdown",
   "id": "7de452b6",
   "metadata": {},
   "source": [
    "Now change eta first to 0.1 and then to 0.01"
   ]
  },
  {
   "cell_type": "code",
   "execution_count": 81,
   "id": "65c13e5e",
   "metadata": {},
   "outputs": [
    {
     "data": {
      "text/plain": [
       "(dict_keys(['eta=0.3']),\n",
       " dict_items([('eta=0.3',     num_iter  train_rmse  val_rmse\n",
       " 0          0     3.02752   3.02415\n",
       " 1          1     2.14667   2.14390\n",
       " 2          2     1.53878   1.53721\n",
       " 3          3     1.12557   1.12523\n",
       " 4          4     0.85100   0.85174\n",
       " ..       ...         ...       ...\n",
       " 95        95     0.36742   0.43579\n",
       " 96        96     0.36698   0.43584\n",
       " 97        97     0.36644   0.43595\n",
       " 98        98     0.36582   0.43597\n",
       " 99        99     0.36478   0.43621\n",
       " \n",
       " [100 rows x 3 columns])]))"
      ]
     },
     "execution_count": 81,
     "metadata": {},
     "output_type": "execute_result"
    }
   ],
   "source": [
    "scores.keys(),scores.items()"
   ]
  },
  {
   "cell_type": "code",
   "execution_count": 82,
   "id": "dc176c33",
   "metadata": {},
   "outputs": [],
   "source": [
    "%%capture output\n",
    "\n",
    "xgb_params = {\n",
    "    'eta': 0.1, \n",
    "    'max_depth': 6,\n",
    "    'min_child_weight': 1,\n",
    "    \n",
    "    'objective': 'reg:squarederror',\n",
    "    'nthread': 8,\n",
    "    \n",
    "    'seed': 1,\n",
    "    'verbosity': 1,\n",
    "}\n",
    "\n",
    "model = xgb.train(xgb_params,dtrain,num_boost_round=100,evals=watchlist)"
   ]
  },
  {
   "cell_type": "code",
   "execution_count": 83,
   "id": "6d68457b",
   "metadata": {},
   "outputs": [
    {
     "data": {
      "text/plain": [
       "'eta=0.1'"
      ]
     },
     "execution_count": 83,
     "metadata": {},
     "output_type": "execute_result"
    }
   ],
   "source": [
    "key = 'eta=%s' % (xgb_params['eta'])\n",
    "scores[key] = parse_xgb_output(output)\n",
    "key"
   ]
  },
  {
   "cell_type": "code",
   "execution_count": 84,
   "id": "0c55ba2d",
   "metadata": {},
   "outputs": [
    {
     "data": {
      "text/plain": [
       "(dict_keys(['eta=0.3', 'eta=0.1']),\n",
       " dict_items([('eta=0.3',     num_iter  train_rmse  val_rmse\n",
       " 0          0     3.02752   3.02415\n",
       " 1          1     2.14667   2.14390\n",
       " 2          2     1.53878   1.53721\n",
       " 3          3     1.12557   1.12523\n",
       " 4          4     0.85100   0.85174\n",
       " ..       ...         ...       ...\n",
       " 95        95     0.36742   0.43579\n",
       " 96        96     0.36698   0.43584\n",
       " 97        97     0.36644   0.43595\n",
       " 98        98     0.36582   0.43597\n",
       " 99        99     0.36478   0.43621\n",
       " \n",
       " [100 rows x 3 columns]), ('eta=0.1',     num_iter  train_rmse  val_rmse\n",
       " 0          0     3.87217   3.86889\n",
       " 1          1     3.49150   3.48840\n",
       " 2          2     3.14949   3.14635\n",
       " 3          3     2.84232   2.83951\n",
       " 4          4     2.56650   2.56412\n",
       " ..       ...         ...       ...\n",
       " 95        95     0.40406   0.43272\n",
       " 96        96     0.40397   0.43272\n",
       " 97        97     0.40361   0.43269\n",
       " 98        98     0.40321   0.43260\n",
       " 99        99     0.40277   0.43250\n",
       " \n",
       " [100 rows x 3 columns])]))"
      ]
     },
     "execution_count": 84,
     "metadata": {},
     "output_type": "execute_result"
    }
   ],
   "source": [
    "scores.keys(),scores.items()"
   ]
  },
  {
   "cell_type": "code",
   "execution_count": 86,
   "id": "5b636e90",
   "metadata": {},
   "outputs": [],
   "source": [
    "%%capture output\n",
    "\n",
    "xgb_params = {\n",
    "    'eta': 0.01, \n",
    "    'max_depth': 6,\n",
    "    'min_child_weight': 1,\n",
    "    \n",
    "    'objective': 'reg:squarederror',\n",
    "    'nthread': 8,\n",
    "    \n",
    "    'seed': 1,\n",
    "    'verbosity': 1,\n",
    "}\n",
    "\n",
    "model = xgb.train(xgb_params,dtrain,num_boost_round=100,evals=watchlist)"
   ]
  },
  {
   "cell_type": "code",
   "execution_count": 87,
   "id": "0ab39164",
   "metadata": {},
   "outputs": [
    {
     "data": {
      "text/plain": [
       "'eta=0.01'"
      ]
     },
     "execution_count": 87,
     "metadata": {},
     "output_type": "execute_result"
    }
   ],
   "source": [
    "key = 'eta=%s' % (xgb_params['eta'])\n",
    "scores[key] = parse_xgb_output(output)\n",
    "key"
   ]
  },
  {
   "cell_type": "code",
   "execution_count": 88,
   "id": "486473eb",
   "metadata": {},
   "outputs": [
    {
     "data": {
      "text/plain": [
       "(dict_keys(['eta=0.3', 'eta=0.1', 'eta=0.01']),\n",
       " dict_items([('eta=0.3',     num_iter  train_rmse  val_rmse\n",
       " 0          0     3.02752   3.02415\n",
       " 1          1     2.14667   2.14390\n",
       " 2          2     1.53878   1.53721\n",
       " 3          3     1.12557   1.12523\n",
       " 4          4     0.85100   0.85174\n",
       " ..       ...         ...       ...\n",
       " 95        95     0.36742   0.43579\n",
       " 96        96     0.36698   0.43584\n",
       " 97        97     0.36644   0.43595\n",
       " 98        98     0.36582   0.43597\n",
       " 99        99     0.36478   0.43621\n",
       " \n",
       " [100 rows x 3 columns]), ('eta=0.1',     num_iter  train_rmse  val_rmse\n",
       " 0          0     3.87217   3.86889\n",
       " 1          1     3.49150   3.48840\n",
       " 2          2     3.14949   3.14635\n",
       " 3          3     2.84232   2.83951\n",
       " 4          4     2.56650   2.56412\n",
       " ..       ...         ...       ...\n",
       " 95        95     0.40406   0.43272\n",
       " 96        96     0.40397   0.43272\n",
       " 97        97     0.40361   0.43269\n",
       " 98        98     0.40321   0.43260\n",
       " 99        99     0.40277   0.43250\n",
       " \n",
       " [100 rows x 3 columns]), ('eta=0.01',     num_iter  train_rmse  val_rmse\n",
       " 0          0     4.25336   4.25010\n",
       " 1          1     4.21141   4.20815\n",
       " 2          2     4.16988   4.16661\n",
       " 3          3     4.12877   4.12551\n",
       " 4          4     4.08807   4.08481\n",
       " ..       ...         ...       ...\n",
       " 95        95     1.69373   1.69214\n",
       " 96        96     1.67804   1.67647\n",
       " 97        97     1.66251   1.66095\n",
       " 98        98     1.64716   1.64563\n",
       " 99        99     1.63198   1.63045\n",
       " \n",
       " [100 rows x 3 columns])]))"
      ]
     },
     "execution_count": 88,
     "metadata": {},
     "output_type": "execute_result"
    }
   ],
   "source": [
    "scores.keys(),scores.items()"
   ]
  },
  {
   "cell_type": "code",
   "execution_count": 89,
   "id": "6fd433eb",
   "metadata": {},
   "outputs": [
    {
     "data": {
      "text/plain": [
       "<matplotlib.legend.Legend at 0x7fbf50d0b9a0>"
      ]
     },
     "execution_count": 89,
     "metadata": {},
     "output_type": "execute_result"
    },
    {
     "data": {
      "image/png": "[encoded data removed]",
      "text/plain": [
       "<Figure size 432x288 with 1 Axes>"
      ]
     },
     "metadata": {
      "needs_background": "light"
     },
     "output_type": "display_data"
    }
   ],
   "source": [
    "for eta, df_score in scores.items():\n",
    "    plt.plot(df_score.num_iter, df_score.val_rmse, label=eta)\n",
    "    \n",
    "\n",
    "plt.legend()"
   ]
  },
  {
   "cell_type": "markdown",
   "id": "77f7bad7",
   "metadata": {},
   "source": [
    "Which eta leads to the best RMSE score on the validation dataset?\n",
    "\n",
    "- 0.3\n",
    "- 0.1\n",
    "- 0.01"
   ]
  },
  {
   "cell_type": "code",
   "execution_count": null,
   "id": "f0cff42a",
   "metadata": {},
   "outputs": [],
   "source": [
    "Answer: 0.01"
   ]
  }
 ],
 "metadata": {
  "kernelspec": {
   "display_name": "Python 3 (ipykernel)",
   "language": "python",
   "name": "python3"
  },
  "language_info": {
   "codemirror_mode": {
    "name": "ipython",
    "version": 3
   },
   "file_extension": ".py",
   "mimetype": "text/x-python",
   "name": "python",
   "nbconvert_exporter": "python",
   "pygments_lexer": "ipython3",
   "version": "3.8.11"
  }
 },
 "nbformat": 4,
 "nbformat_minor": 5
}
