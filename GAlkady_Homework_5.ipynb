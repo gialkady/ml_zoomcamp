{
 "cells": [
  {
   "cell_type": "markdown",
   "id": "a711f36e",
   "metadata": {},
   "source": [
    "# Homework 5"
   ]
  },
  {
   "cell_type": "markdown",
   "id": "447c0366",
   "metadata": {},
   "source": [
    "In this homework, we'll use the churn prediction model trained on a smaller set of features."
   ]
  },
  {
   "cell_type": "markdown",
   "id": "d18cdc36",
   "metadata": {},
   "source": [
    "# Question 1"
   ]
  },
  {
   "cell_type": "markdown",
   "id": "4e65f8fa",
   "metadata": {},
   "source": [
    "version of pipenv -> 2020.11.15"
   ]
  },
  {
   "cell_type": "markdown",
   "id": "5437920a",
   "metadata": {},
   "source": [
    "# Question 2"
   ]
  },
  {
   "cell_type": "markdown",
   "id": "66464fc8",
   "metadata": {},
   "source": [
    "First hash for scikit-learn in Pipfile.lock -> sha256:121f78d6564000dc5e968394f45aac87981fcaaf2be40cfcd8f07b2baa1e1829"
   ]
  },
  {
   "cell_type": "markdown",
   "id": "e81eb4e9",
   "metadata": {},
   "source": [
    "# Question 3"
   ]
  },
  {
   "cell_type": "markdown",
   "id": "16b57bb8",
   "metadata": {},
   "source": [
    "The probability that this customer is churning = 0.115"
   ]
  },
  {
   "cell_type": "markdown",
   "id": "5526e5bc",
   "metadata": {},
   "source": [
    "# Question 4"
   ]
  },
  {
   "cell_type": "markdown",
   "id": "63025689",
   "metadata": {},
   "source": [
    "The probability that this customer is churning = 0.998"
   ]
  },
  {
   "cell_type": "markdown",
   "id": "1413c99d",
   "metadata": {},
   "source": [
    "# Question 5 "
   ]
  },
  {
   "cell_type": "markdown",
   "id": "f5e0d84b",
   "metadata": {},
   "source": [
    "I have a problem in the docker part .. i am looking forward for today's office hours "
   ]
  },
  {
   "cell_type": "code",
   "execution_count": null,
   "id": "d8d14b2b",
   "metadata": {},
   "outputs": [],
   "source": []
  }
 ],
 "metadata": {
  "kernelspec": {
   "display_name": "Python 3 (ipykernel)",
   "language": "python",
   "name": "python3"
  },
  "language_info": {
   "codemirror_mode": {
    "name": "ipython",
    "version": 3
   },
   "file_extension": ".py",
   "mimetype": "text/x-python",
   "name": "python",
   "nbconvert_exporter": "python",
   "pygments_lexer": "ipython3",
   "version": "3.8.11"
  }
 },
 "nbformat": 4,
 "nbformat_minor": 5
}
