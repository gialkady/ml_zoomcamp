{
 "cells": [
  {
   "cell_type": "markdown",
   "id": "c365516f",
   "metadata": {},
   "source": [
    "# Question (1)"
   ]
  },
  {
   "cell_type": "code",
   "execution_count": 3,
   "id": "b7f02698",
   "metadata": {},
   "outputs": [
    {
     "data": {
      "text/plain": [
       "'1.20.3'"
      ]
     },
     "execution_count": 3,
     "metadata": {},
     "output_type": "execute_result"
    }
   ],
   "source": [
    "import numpy as np\n",
    "np.__version__"
   ]
  },
  {
   "cell_type": "markdown",
   "id": "01fdfe58",
   "metadata": {},
   "source": [
    "# Question (2)"
   ]
  },
  {
   "cell_type": "code",
   "execution_count": 4,
   "id": "493b7642",
   "metadata": {},
   "outputs": [
    {
     "data": {
      "text/plain": [
       "'1.3.2'"
      ]
     },
     "execution_count": 4,
     "metadata": {},
     "output_type": "execute_result"
    }
   ],
   "source": [
    "import pandas as pd\n",
    "pd.__version__"
   ]
  },
  {
   "cell_type": "markdown",
   "id": "ea4f8636",
   "metadata": {},
   "source": [
    "# Question (3)¶"
   ]
  },
  {
   "cell_type": "code",
   "execution_count": 7,
   "id": "4a175909",
   "metadata": {},
   "outputs": [
    {
     "data": {
      "text/plain": [
       "Make\n",
       "Acura              34887.59\n",
       "Alfa Romeo         61600.00\n",
       "Aston Martin      197910.38\n",
       "Audi               53452.11\n",
       "BMW                61546.76\n",
       "Bentley           247169.32\n",
       "Bugatti          1757223.67\n",
       "Buick              28206.61\n",
       "Cadillac           56231.32\n",
       "Chevrolet          28350.39\n",
       "Chrysler           26722.96\n",
       "Dodge              22390.06\n",
       "FIAT               22670.24\n",
       "Ferrari           238218.84\n",
       "Ford               27399.27\n",
       "GMC                30493.30\n",
       "Genesis            46616.67\n",
       "HUMMER             36464.41\n",
       "Honda              26674.34\n",
       "Hyundai            24597.04\n",
       "Infiniti           42394.21\n",
       "Kia                25310.17\n",
       "Lamborghini       331567.31\n",
       "Land Rover         67823.22\n",
       "Lexus              47549.07\n",
       "Lincoln            42839.83\n",
       "Lotus              69188.28\n",
       "Maserati          114207.71\n",
       "Maybach           546221.88\n",
       "Mazda              20039.38\n",
       "McLaren           239805.00\n",
       "Mercedes-Benz      71476.23\n",
       "Mitsubishi         21240.54\n",
       "Nissan             28583.43\n",
       "Oldsmobile         11542.54\n",
       "Plymouth            3122.90\n",
       "Pontiac            19321.55\n",
       "Porsche           101622.40\n",
       "Rolls-Royce       351130.65\n",
       "Saab               27413.50\n",
       "Scion              19932.50\n",
       "Spyker            213323.33\n",
       "Subaru             24827.50\n",
       "Suzuki             17907.21\n",
       "Tesla              85255.56\n",
       "Toyota             29030.02\n",
       "Volkswagen         28102.38\n",
       "Volvo              28541.16\n",
       "Name: MSRP, dtype: float64"
      ]
     },
     "execution_count": 7,
     "metadata": {},
     "output_type": "execute_result"
    }
   ],
   "source": [
    "df = pd.read_csv('data.csv') \n",
    "df.groupby('Make').MSRP.mean().round(2)"
   ]
  },
  {
   "cell_type": "raw",
   "id": "0ab6bc28",
   "metadata": {},
   "source": [
    "Average price of BMW cars in the dataset\n",
    "BMW                61546.76"
   ]
  },
  {
   "cell_type": "markdown",
   "id": "494413be",
   "metadata": {},
   "source": [
    "# Question (4)"
   ]
  },
  {
   "cell_type": "code",
   "execution_count": 8,
   "id": "bfaf876d",
   "metadata": {},
   "outputs": [
    {
     "data": {
      "text/plain": [
       "51"
      ]
     },
     "execution_count": 8,
     "metadata": {},
     "output_type": "execute_result"
    }
   ],
   "source": [
    "df[\"Engine HP\"].loc[df[\"Year\"]>=2015].isnull().sum()"
   ]
  },
  {
   "cell_type": "markdown",
   "id": "f2730004",
   "metadata": {},
   "source": [
    "# Question (5)"
   ]
  },
  {
   "cell_type": "code",
   "execution_count": 15,
   "id": "8adcaac6",
   "metadata": {},
   "outputs": [
    {
     "name": "stdout",
     "output_type": "stream",
     "text": [
      "249\n"
     ]
    }
   ],
   "source": [
    "avg_Engine_nofill = df[\"Engine HP\"].mean()\n",
    "print (round (avg_Engine_nofill ))"
   ]
  },
  {
   "cell_type": "code",
   "execution_count": 14,
   "id": "a26fb7ea",
   "metadata": {},
   "outputs": [
    {
     "name": "stdout",
     "output_type": "stream",
     "text": [
      "249\n"
     ]
    }
   ],
   "source": [
    "mean_fill = df[\"Engine HP\"].fillna(avg_Engine_nofill)\n",
    "avg_Engine_fill = mean_fillna.mean()\n",
    "print (round (avg_Engine_fill))"
   ]
  },
  {
   "cell_type": "markdown",
   "id": "1d8e991d",
   "metadata": {},
   "source": [
    "# Question (6)"
   ]
  },
  {
   "cell_type": "code",
   "execution_count": 16,
   "id": "287831d4",
   "metadata": {},
   "outputs": [
    {
     "data": {
      "text/html": [
       "<div>\n",
       "<style scoped>\n",
       "    .dataframe tbody tr th:only-of-type {\n",
       "        vertical-align: middle;\n",
       "    }\n",
       "\n",
       "    .dataframe tbody tr th {\n",
       "        vertical-align: top;\n",
       "    }\n",
       "\n",
       "    .dataframe thead th {\n",
       "        text-align: right;\n",
       "    }\n",
       "</style>\n",
       "<table border=\"1\" class=\"dataframe\">\n",
       "  <thead>\n",
       "    <tr style=\"text-align: right;\">\n",
       "      <th></th>\n",
       "      <th>Engine HP</th>\n",
       "      <th>Engine Cylinders</th>\n",
       "      <th>highway MPG</th>\n",
       "    </tr>\n",
       "  </thead>\n",
       "  <tbody>\n",
       "    <tr>\n",
       "      <th>2921</th>\n",
       "      <td>325.0</td>\n",
       "      <td>8.0</td>\n",
       "      <td>15</td>\n",
       "    </tr>\n",
       "    <tr>\n",
       "      <th>3505</th>\n",
       "      <td>563.0</td>\n",
       "      <td>12.0</td>\n",
       "      <td>19</td>\n",
       "    </tr>\n",
       "    <tr>\n",
       "      <th>5275</th>\n",
       "      <td>563.0</td>\n",
       "      <td>12.0</td>\n",
       "      <td>21</td>\n",
       "    </tr>\n",
       "    <tr>\n",
       "      <th>5279</th>\n",
       "      <td>563.0</td>\n",
       "      <td>12.0</td>\n",
       "      <td>20</td>\n",
       "    </tr>\n",
       "    <tr>\n",
       "      <th>7443</th>\n",
       "      <td>322.0</td>\n",
       "      <td>12.0</td>\n",
       "      <td>15</td>\n",
       "    </tr>\n",
       "    <tr>\n",
       "      <th>7553</th>\n",
       "      <td>453.0</td>\n",
       "      <td>12.0</td>\n",
       "      <td>19</td>\n",
       "    </tr>\n",
       "    <tr>\n",
       "      <th>11448</th>\n",
       "      <td>624.0</td>\n",
       "      <td>12.0</td>\n",
       "      <td>21</td>\n",
       "    </tr>\n",
       "  </tbody>\n",
       "</table>\n",
       "</div>"
      ],
      "text/plain": [
       "       Engine HP  Engine Cylinders  highway MPG\n",
       "2921       325.0               8.0           15\n",
       "3505       563.0              12.0           19\n",
       "5275       563.0              12.0           21\n",
       "5279       563.0              12.0           20\n",
       "7443       322.0              12.0           15\n",
       "7553       453.0              12.0           19\n",
       "11448      624.0              12.0           21"
      ]
     },
     "execution_count": 16,
     "metadata": {},
     "output_type": "execute_result"
    }
   ],
   "source": [
    "dropped_duplicate = df[df[\"Make\"]==\"Rolls-Royce\"][[\"Engine HP\",\"Engine Cylinders\",\"highway MPG\"]].drop_duplicates()\n",
    "dropped_duplicate"
   ]
  },
  {
   "cell_type": "code",
   "execution_count": 17,
   "id": "2129c65d",
   "metadata": {},
   "outputs": [
    {
     "data": {
      "text/plain": [
       "array([[325.,   8.,  15.],\n",
       "       [563.,  12.,  19.],\n",
       "       [563.,  12.,  21.],\n",
       "       [563.,  12.,  20.],\n",
       "       [322.,  12.,  15.],\n",
       "       [453.,  12.,  19.],\n",
       "       [624.,  12.,  21.]])"
      ]
     },
     "execution_count": 17,
     "metadata": {},
     "output_type": "execute_result"
    }
   ],
   "source": [
    "X = dropped_duplicate.values\n",
    "X"
   ]
  },
  {
   "cell_type": "code",
   "execution_count": 18,
   "id": "e34b958a",
   "metadata": {},
   "outputs": [
    {
     "data": {
      "text/plain": [
       "array([[1.754801e+06, 3.965600e+04, 6.519600e+04],\n",
       "       [3.965600e+04, 9.280000e+02, 1.500000e+03],\n",
       "       [6.519600e+04, 1.500000e+03, 2.454000e+03]])"
      ]
     },
     "execution_count": 18,
     "metadata": {},
     "output_type": "execute_result"
    }
   ],
   "source": [
    "XTX = X.T @ X\n",
    "XTX"
   ]
  },
  {
   "cell_type": "code",
   "execution_count": 19,
   "id": "ef86e326",
   "metadata": {},
   "outputs": [
    {
     "data": {
      "text/plain": [
       "array([[ 5.17815728e-05,  9.06587044e-04, -1.92984188e-03],\n",
       "       [ 9.06587044e-04,  1.05723058e-01, -8.87084092e-02],\n",
       "       [-1.92984188e-03, -8.87084092e-02,  1.05900809e-01]])"
      ]
     },
     "execution_count": 19,
     "metadata": {},
     "output_type": "execute_result"
    }
   ],
   "source": [
    "inv_XTX = np.linalg.inv(XTX)\n",
    "inv_XTX"
   ]
  },
  {
   "cell_type": "code",
   "execution_count": 20,
   "id": "6028d7e7",
   "metadata": {},
   "outputs": [
    {
     "data": {
      "text/plain": [
       "0.032212320677486195"
      ]
     },
     "execution_count": 20,
     "metadata": {},
     "output_type": "execute_result"
    }
   ],
   "source": [
    "inv_XTX.sum()"
   ]
  },
  {
   "cell_type": "markdown",
   "id": "117d7cc5",
   "metadata": {},
   "source": [
    "# Question (7)"
   ]
  },
  {
   "cell_type": "code",
   "execution_count": 21,
   "id": "1f771625",
   "metadata": {},
   "outputs": [
    {
     "data": {
      "text/plain": [
       "array([1000, 1100,  900, 1200, 1000,  850, 1300])"
      ]
     },
     "execution_count": 21,
     "metadata": {},
     "output_type": "execute_result"
    }
   ],
   "source": [
    "y = np.array([1000, 1100, 900, 1200, 1000, 850, 1300])\n",
    "y"
   ]
  },
  {
   "cell_type": "code",
   "execution_count": 23,
   "id": "e1c8dc51",
   "metadata": {},
   "outputs": [
    {
     "data": {
      "text/plain": [
       "array([[-0.00486592,  0.00336507, -0.00049461,  0.00143523, -0.00139492,\n",
       "        -0.0023309 ,  0.00266407],\n",
       "       [-0.19020088,  0.09362543, -0.08379139,  0.00491702,  0.22997159,\n",
       "        -0.00609915, -0.02848958],\n",
       "       [ 0.25164625, -0.13888652,  0.0729151 , -0.03298571, -0.09739786,\n",
       "         0.07339609, -0.04480526]])"
      ]
     },
     "execution_count": 23,
     "metadata": {},
     "output_type": "execute_result"
    }
   ],
   "source": [
    "g = inv_XTX @ X.T \n",
    "g"
   ]
  },
  {
   "cell_type": "code",
   "execution_count": 24,
   "id": "5b35c095",
   "metadata": {},
   "outputs": [
    {
     "data": {
      "text/plain": [
       "array([ 0.19989598, 31.02612262, 31.65378877])"
      ]
     },
     "execution_count": 24,
     "metadata": {},
     "output_type": "execute_result"
    }
   ],
   "source": [
    "w = g.dot(y)\n",
    "w"
   ]
  },
  {
   "cell_type": "code",
   "execution_count": 25,
   "id": "4d09e2da",
   "metadata": {},
   "outputs": [
    {
     "data": {
      "text/plain": [
       "0.19989598183186175"
      ]
     },
     "execution_count": 25,
     "metadata": {},
     "output_type": "execute_result"
    }
   ],
   "source": [
    "w[0]"
   ]
  },
  {
   "cell_type": "code",
   "execution_count": null,
   "id": "2f833222",
   "metadata": {},
   "outputs": [],
   "source": []
  }
 ],
 "metadata": {
  "kernelspec": {
   "display_name": "Python 3 (ipykernel)",
   "language": "python",
   "name": "python3"
  },
  "language_info": {
   "codemirror_mode": {
    "name": "ipython",
    "version": 3
   },
   "file_extension": ".py",
   "mimetype": "text/x-python",
   "name": "python",
   "nbconvert_exporter": "python",
   "pygments_lexer": "ipython3",
   "version": "3.8.11"
  }
 },
 "nbformat": 4,
 "nbformat_minor": 5
}
