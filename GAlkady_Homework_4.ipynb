{
 "cells": [
  {
   "cell_type": "markdown",
   "id": "5918be37",
   "metadata": {},
   "source": [
    "# Homework 4"
   ]
  },
  {
   "cell_type": "markdown",
   "id": "9e15d043",
   "metadata": {},
   "source": [
    "Use this notebook as a starter"
   ]
  },
  {
   "cell_type": "markdown",
   "id": "ffa9b3bd",
   "metadata": {},
   "source": [
    "# Import Libraries"
   ]
  },
  {
   "cell_type": "code",
   "execution_count": 29,
   "id": "918fc269",
   "metadata": {},
   "outputs": [],
   "source": [
    "#import libraries\n",
    "\n",
    "import pandas as pd\n",
    "import numpy as np\n",
    "\n",
    "import matplotlib.pyplot as plt\n",
    "import seaborn as sns\n",
    "\n",
    "%matplotlib inline"
   ]
  },
  {
   "cell_type": "code",
   "execution_count": 30,
   "id": "2162350f",
   "metadata": {},
   "outputs": [
    {
     "name": "stdout",
     "output_type": "stream",
     "text": [
      "zsh:1: command not found: wget\r\n"
     ]
    }
   ],
   "source": [
    "!wget https://raw.githubusercontent.com/alexeygrigorev/mlbookcamp-code/master/chapter-06-trees/CreditScoring.csv"
   ]
  },
  {
   "cell_type": "markdown",
   "id": "1e6636bb",
   "metadata": {},
   "source": [
    "# Preparation"
   ]
  },
  {
   "cell_type": "markdown",
   "id": "9cafcde9",
   "metadata": {},
   "source": [
    "We'll talk about this dataset in more details in week 6. But for now, use the following code to get started"
   ]
  },
  {
   "cell_type": "code",
   "execution_count": 31,
   "id": "83d344e1",
   "metadata": {},
   "outputs": [],
   "source": [
    "#load dataset\n",
    "df = pd.read_csv('CreditScoring.csv')\n",
    "df.columns = df.columns.str.lower()"
   ]
  },
  {
   "cell_type": "markdown",
   "id": "a76300fa",
   "metadata": {},
   "source": [
    "Some of the features are encoded as numbers. Use the following code to de-code them:"
   ]
  },
  {
   "cell_type": "code",
   "execution_count": 32,
   "id": "e0ac78d6",
   "metadata": {},
   "outputs": [],
   "source": [
    "status_values = {\n",
    "    1: 'ok',\n",
    "    2: 'default',\n",
    "    0: 'unk'\n",
    "}\n",
    "\n",
    "df.status = df.status.map(status_values)\n",
    "\n",
    "\n",
    "home_values = {\n",
    "    1: 'rent',\n",
    "    2: 'owner',\n",
    "    3: 'private',\n",
    "    4: 'ignore',\n",
    "    5: 'parents',\n",
    "    6: 'other',\n",
    "    0: 'unk'\n",
    "}\n",
    "\n",
    "df.home = df.home.map(home_values)\n",
    "\n",
    "marital_values = {\n",
    "    1: 'single',\n",
    "    2: 'married',\n",
    "    3: 'widow',\n",
    "    4: 'separated',\n",
    "    5: 'divorced',\n",
    "    0: 'unk'\n",
    "}\n",
    "\n",
    "df.marital = df.marital.map(marital_values)\n",
    "\n",
    "records_values = {\n",
    "    1: 'no',\n",
    "    2: 'yes',\n",
    "    0: 'unk'\n",
    "}\n",
    "\n",
    "df.records = df.records.map(records_values)\n",
    "\n",
    "job_values = {\n",
    "    1: 'fixed',\n",
    "    2: 'partime',\n",
    "    3: 'freelance',\n",
    "    4: 'others',\n",
    "    0: 'unk'\n",
    "}\n",
    "\n",
    "df.job = df.job.map(job_values)\n"
   ]
  },
  {
   "cell_type": "markdown",
   "id": "ad7e8ed3",
   "metadata": {},
   "source": [
    "Prepare the numerical variables:"
   ]
  },
  {
   "cell_type": "code",
   "execution_count": 33,
   "id": "ea1a1d3e",
   "metadata": {},
   "outputs": [],
   "source": [
    "for c in ['income', 'assets', 'debt']:\n",
    "    df[c] = df[c].replace(to_replace=99999999, value=0)"
   ]
  },
  {
   "cell_type": "markdown",
   "id": "e82f07af",
   "metadata": {},
   "source": [
    "Remove clients with unknown default status"
   ]
  },
  {
   "cell_type": "code",
   "execution_count": 34,
   "id": "4d646381",
   "metadata": {},
   "outputs": [],
   "source": [
    "df = df[df.status != 'unk'].reset_index(drop=True)"
   ]
  },
  {
   "cell_type": "markdown",
   "id": "29925089",
   "metadata": {},
   "source": [
    "Create the target variable"
   ]
  },
  {
   "cell_type": "code",
   "execution_count": 35,
   "id": "bc5e9e44",
   "metadata": {},
   "outputs": [],
   "source": [
    "df['default'] = (df.status == 'default').astype(int)\n",
    "del df['status']"
   ]
  },
  {
   "cell_type": "markdown",
   "id": "69a9b037",
   "metadata": {},
   "source": [
    "# Your code"
   ]
  },
  {
   "cell_type": "markdown",
   "id": "03e461a4",
   "metadata": {},
   "source": [
    "What are the categorical variables? What are the numerical?"
   ]
  },
  {
   "cell_type": "code",
   "execution_count": 36,
   "id": "c8711a83",
   "metadata": {},
   "outputs": [
    {
     "data": {
      "text/plain": [
       "seniority     int64\n",
       "home         object\n",
       "time          int64\n",
       "age           int64\n",
       "marital      object\n",
       "records      object\n",
       "job          object\n",
       "expenses      int64\n",
       "income        int64\n",
       "assets        int64\n",
       "debt          int64\n",
       "amount        int64\n",
       "price         int64\n",
       "default       int64\n",
       "dtype: object"
      ]
     },
     "execution_count": 36,
     "metadata": {},
     "output_type": "execute_result"
    }
   ],
   "source": [
    "df.dtypes"
   ]
  },
  {
   "cell_type": "code",
   "execution_count": 48,
   "id": "e8228786",
   "metadata": {},
   "outputs": [],
   "source": [
    "categorical = [\"home\", \"material\", \"records\", \"job\"]\n",
    "numerical = [\"seniority\", \"time\", \"age\",\"expenses\", \"income\", \"assets\", \"debt\", \"amount\", \"price\"]"
   ]
  },
  {
   "cell_type": "markdown",
   "id": "b5ce0f44",
   "metadata": {},
   "source": [
    "Split the data into 3 parts: train/validation/test with 60%/20%/20% distribution. Use train_test_split funciton for that with random_state=1"
   ]
  },
  {
   "cell_type": "code",
   "execution_count": 49,
   "id": "f9923c12",
   "metadata": {},
   "outputs": [],
   "source": [
    "from sklearn.model_selection import train_test_split"
   ]
  },
  {
   "cell_type": "code",
   "execution_count": 50,
   "id": "bb06b5d3",
   "metadata": {},
   "outputs": [],
   "source": [
    "#perform the train/validation/test split with scikit-learn\n",
    "df_full_train, df_test = train_test_split(df, test_size =0.2, random_state =1)\n",
    "df_train, df_val = train_test_split(df_full_train, test_size =0.25, random_state =1)"
   ]
  },
  {
   "cell_type": "code",
   "execution_count": 51,
   "id": "c34d0878",
   "metadata": {},
   "outputs": [
    {
     "data": {
      "text/plain": [
       "(2672, 891, 891)"
      ]
     },
     "execution_count": 51,
     "metadata": {},
     "output_type": "execute_result"
    }
   ],
   "source": [
    "# check partitions sizes\n",
    "len(df_train), len(df_val), len(df_test)"
   ]
  },
  {
   "cell_type": "code",
   "execution_count": 52,
   "id": "003f20de",
   "metadata": {},
   "outputs": [],
   "source": [
    "#make index not shuffeled \n",
    "df_train = df_train.reset_index(drop=True)\n",
    "df_val = df_val.reset_index(drop=True)\n",
    "df_test = df_test.reset_index(drop=True)"
   ]
  },
  {
   "cell_type": "code",
   "execution_count": 53,
   "id": "65d34a46",
   "metadata": {},
   "outputs": [],
   "source": [
    "#target variables of all partitions\n",
    "y_train = df_train.default.values\n",
    "y_val = df_val.default.values\n",
    "y_test = df_test.default.values"
   ]
  },
  {
   "cell_type": "code",
   "execution_count": 54,
   "id": "61d5f084",
   "metadata": {},
   "outputs": [],
   "source": [
    "#delete default values from all dfs\n",
    "del df_train ['default']\n",
    "del df_val ['default']\n",
    "del df_test ['default']"
   ]
  },
  {
   "cell_type": "markdown",
   "id": "03fde264",
   "metadata": {},
   "source": [
    "# Question 1"
   ]
  },
  {
   "cell_type": "markdown",
   "id": "9b4322fa",
   "metadata": {},
   "source": [
    "ROC AUC could also be used to evaluate feature importance of numerical variables."
   ]
  },
  {
   "cell_type": "markdown",
   "id": "d3f50b3d",
   "metadata": {},
   "source": [
    "Let's do that"
   ]
  },
  {
   "cell_type": "markdown",
   "id": "29b2b206",
   "metadata": {},
   "source": [
    "- For each numerical variable, use it as score and compute AUC with the \"default\" variable\n",
    "- Use the training dataset for that"
   ]
  },
  {
   "cell_type": "markdown",
   "id": "8ac51a5a",
   "metadata": {},
   "source": [
    "If your AUC is < 0.5, invert this variable by putting \"-\" in front"
   ]
  },
  {
   "cell_type": "markdown",
   "id": "4f72e073",
   "metadata": {},
   "source": [
    "(e.g. -df_train['expenses'])"
   ]
  },
  {
   "cell_type": "markdown",
   "id": "f2975e16",
   "metadata": {},
   "source": [
    "AUC can go below 0.5 if the variable is negatively correlated with the target varialble. You can change the direction of the correlation by negating this variable - then negative correlation becomes positive."
   ]
  },
  {
   "cell_type": "code",
   "execution_count": 55,
   "id": "983dfe0f",
   "metadata": {},
   "outputs": [],
   "source": [
    "from sklearn.metrics import roc_auc_score"
   ]
  },
  {
   "cell_type": "code",
   "execution_count": 56,
   "id": "f27c3ab8",
   "metadata": {},
   "outputs": [
    {
     "name": "stdout",
     "output_type": "stream",
     "text": [
      "AUC of seniority: 0.7093778624491943\n",
      "AUC of time: 0.5608662489595051\n",
      "AUC of age: 0.5732933272499939\n",
      "AUC of expenses: 0.5009184217217011\n",
      "AUC of income: 0.682006666132633\n",
      "AUC of assets: 0.6486042567122802\n",
      "AUC of debt: 0.5047829675783548\n",
      "AUC of amount: 0.5910773431595518\n",
      "AUC of price: 0.5043329862114843\n"
     ]
    }
   ],
   "source": [
    "for i in numerical:\n",
    "    AUC = roc_auc_score(y_train, df_train[i])\n",
    "    if AUC < 0.5:\n",
    "        AUC = roc_auc_score(y_train, -df_train[i])\n",
    "    print(f'AUC of {i}: {AUC}')"
   ]
  },
  {
   "cell_type": "markdown",
   "id": "9ee6132a",
   "metadata": {},
   "source": [
    "Which numerical variable (among the following 4) has the highest AUC?\n",
    "\n"
   ]
  },
  {
   "cell_type": "markdown",
   "id": "b5ec17be",
   "metadata": {},
   "source": [
    "- seniority -> HIGHEST AUC\n",
    "- time\n",
    "- income\n",
    "- debt"
   ]
  },
  {
   "cell_type": "markdown",
   "id": "a55fc0d2",
   "metadata": {},
   "source": [
    "# Training the model"
   ]
  },
  {
   "cell_type": "markdown",
   "id": "9f67db20",
   "metadata": {},
   "source": [
    "From now on, use these columns only:\n",
    "\n"
   ]
  },
  {
   "cell_type": "markdown",
   "id": "bce7bef9",
   "metadata": {},
   "source": [
    "['seniority', 'income', 'assets', 'records', 'job', 'home']\n"
   ]
  },
  {
   "cell_type": "markdown",
   "id": "2d602e71",
   "metadata": {},
   "source": [
    "Apply one-hot-encoding using DictVectorizer and train the logistic regression with these parameters:"
   ]
  },
  {
   "cell_type": "markdown",
   "id": "533976b7",
   "metadata": {},
   "source": [
    "LogisticRegression(solver='liblinear', C=1.0, max_iter=1000)"
   ]
  },
  {
   "cell_type": "code",
   "execution_count": 60,
   "id": "a1cffee1",
   "metadata": {},
   "outputs": [],
   "source": [
    "features = ['seniority', 'income', 'assets', 'records', 'job', 'home']"
   ]
  },
  {
   "cell_type": "code",
   "execution_count": 61,
   "id": "4f969dd6",
   "metadata": {},
   "outputs": [],
   "source": [
    "df_train_small = df_train[features]\n",
    "df_test_small = df_test[features]\n",
    "df_val_small = df_val[features]"
   ]
  },
  {
   "cell_type": "code",
   "execution_count": 62,
   "id": "282b56c7",
   "metadata": {},
   "outputs": [],
   "source": [
    "from sklearn.feature_extraction import DictVectorizer"
   ]
  },
  {
   "cell_type": "code",
   "execution_count": 63,
   "id": "f11d3abb",
   "metadata": {},
   "outputs": [],
   "source": [
    "#dictionaries to apply one-hot-encoding on categorical features \n",
    "train_dict = df_train_small.to_dict(orient='records')"
   ]
  },
  {
   "cell_type": "code",
   "execution_count": 65,
   "id": "420a2577",
   "metadata": {},
   "outputs": [
    {
     "data": {
      "text/plain": [
       "<2672x17 sparse matrix of type '<class 'numpy.float64'>'\n",
       "\twith 16032 stored elements in Compressed Sparse Row format>"
      ]
     },
     "execution_count": 65,
     "metadata": {},
     "output_type": "execute_result"
    }
   ],
   "source": [
    "#feature matrix = numerical + one-hot encoded categorical variables\n",
    "dv = DictVectorizer()\n",
    "X_train_small = dv.fit_transform(train_dict)\n",
    "X_train_small"
   ]
  },
  {
   "cell_type": "code",
   "execution_count": 66,
   "id": "6894dd7c",
   "metadata": {},
   "outputs": [],
   "source": [
    "from sklearn.linear_model import LogisticRegression"
   ]
  },
  {
   "cell_type": "code",
   "execution_count": 67,
   "id": "cf7e5f13",
   "metadata": {},
   "outputs": [
    {
     "data": {
      "text/plain": [
       "LogisticRegression(max_iter=1000, solver='liblinear')"
      ]
     },
     "execution_count": 67,
     "metadata": {},
     "output_type": "execute_result"
    }
   ],
   "source": [
    "#LogisticRegression\n",
    "model = LogisticRegression(solver='liblinear', C=1.0, max_iter=1000)\n",
    "model.fit(X_train_small, y_train)"
   ]
  },
  {
   "cell_type": "code",
   "execution_count": 68,
   "id": "8b5119d7",
   "metadata": {},
   "outputs": [],
   "source": [
    "val_dict = df_val_small.to_dict(orient='records')\n",
    "X_val = dv.fit_transform(val_dict)"
   ]
  },
  {
   "cell_type": "code",
   "execution_count": 69,
   "id": "f26cc548",
   "metadata": {},
   "outputs": [],
   "source": [
    "y_pred = model.predict_proba(X_val)[:, 1]"
   ]
  },
  {
   "cell_type": "markdown",
   "id": "b691d194",
   "metadata": {},
   "source": [
    "# Question 2"
   ]
  },
  {
   "cell_type": "markdown",
   "id": "a758f4ca",
   "metadata": {},
   "source": [
    "What's the AUC of this model on the validation dataset? (round to 3 digits)"
   ]
  },
  {
   "cell_type": "markdown",
   "id": "a17603a0",
   "metadata": {},
   "source": [
    "- 0.512\n",
    "- 0.612\n",
    "- 0.712\n",
    "- 0.812"
   ]
  },
  {
   "cell_type": "code",
   "execution_count": 71,
   "id": "1036d810",
   "metadata": {},
   "outputs": [
    {
     "data": {
      "text/plain": [
       "0.812"
      ]
     },
     "execution_count": 71,
     "metadata": {},
     "output_type": "execute_result"
    }
   ],
   "source": [
    "AUC_val = round(roc_auc_score(y_val, y_pred),3)\n",
    "AUC_val"
   ]
  },
  {
   "cell_type": "markdown",
   "id": "540af267",
   "metadata": {},
   "source": [
    "# Question 3"
   ]
  },
  {
   "cell_type": "markdown",
   "id": "b29dea24",
   "metadata": {},
   "source": [
    "Now let's compute precision and recall for our model."
   ]
  },
  {
   "cell_type": "markdown",
   "id": "c080aad5",
   "metadata": {},
   "source": [
    "- Evaluate the model on all thresholds from 0.0 to 1.0 with step 0.01\n",
    "- For each threshold, compute precision and recall\n",
    "- Plot them"
   ]
  },
  {
   "cell_type": "code",
   "execution_count": 82,
   "id": "4f17c3ae",
   "metadata": {},
   "outputs": [],
   "source": [
    "def pr(y_val, y_pred):\n",
    "    scores = []\n",
    "\n",
    "    thresholds = np.linspace(0, 1, 101)\n",
    "\n",
    "    for t in thresholds:\n",
    "        \n",
    "        tp = ((y_pred >= t) & (y_val == 1)).sum()\n",
    "        fp = ((y_pred >= t) & (y_val == 0)).sum()\n",
    "        fn = ((y_pred < t) & (y_val == 1)).sum()\n",
    "        tn = ((y_pred < t) & (y_val == 0)).sum() \n",
    "\n",
    "        scores.append((t, tp, fp, fn, tn))\n",
    "\n",
    "    columns = ['threshold', 'tp', 'fp', 'fn', 'tn']\n",
    "    df_scores = pd.DataFrame(scores, columns=columns)\n",
    "\n",
    "    df_scores['precision'] = df_scores.tp / (df_scores.tp + df_scores.fp)\n",
    "    df_scores['recall'] = df_scores.tp / (df_scores.tp + df_scores.fn)\n",
    "    \n",
    "    return df_scores"
   ]
  },
  {
   "cell_type": "code",
   "execution_count": 83,
   "id": "c1025044",
   "metadata": {},
   "outputs": [],
   "source": [
    "pr = pr(y_val, y_pred)"
   ]
  },
  {
   "cell_type": "code",
   "execution_count": 89,
   "id": "e0f8e99e",
   "metadata": {},
   "outputs": [
    {
     "data": {
      "text/plain": [
       "<matplotlib.legend.Legend at 0x7fd159158490>"
      ]
     },
     "execution_count": 89,
     "metadata": {},
     "output_type": "execute_result"
    },
    {
     "data": {
      "image/png": "[encoded data removed]",
      "text/plain": [
       "<Figure size 432x288 with 1 Axes>"
      ]
     },
     "metadata": {
      "needs_background": "light"
     },
     "output_type": "display_data"
    }
   ],
   "source": [
    "plt.plot(pr.threshold, pr['precision'], label='Precision')\n",
    "plt.plot(pr.threshold, pr['recall'], label='recall')\n",
    "plt.title('Threshold vs precision and recall')\n",
    "plt.xlabel('Threshold')\n",
    "plt.legend()"
   ]
  },
  {
   "cell_type": "markdown",
   "id": "7f1e5edb",
   "metadata": {},
   "source": [
    "At which threshold precision and recall curves intersect?"
   ]
  },
  {
   "cell_type": "markdown",
   "id": "23f624a2",
   "metadata": {},
   "source": [
    "- 0.2\n",
    "- 0.4 -> precision and recall curves intersection\n",
    "- 0.6\n",
    "- 0.8"
   ]
  },
  {
   "cell_type": "markdown",
   "id": "5b56c9d5",
   "metadata": {},
   "source": [
    "# Question 4"
   ]
  },
  {
   "cell_type": "markdown",
   "id": "350d00fc",
   "metadata": {},
   "source": [
    "Precision and recall are conflicting - when one grows, the other goes down. That's why they are often combined into the F1 score - a metrics that takes into account both"
   ]
  },
  {
   "cell_type": "markdown",
   "id": "6a5e496f",
   "metadata": {},
   "source": [
    "This is the formula for computing F1:"
   ]
  },
  {
   "attachments": {
    "image.png": {
     "image/png": "[encoded data removed]"
    }
   },
   "cell_type": "markdown",
   "id": "08cb19a0",
   "metadata": {},
   "source": [
    "![image.png](attachment:image.png)"
   ]
  },
  {
   "cell_type": "markdown",
   "id": "1f058521",
   "metadata": {},
   "source": [
    "Where $P$ is precision and $R$ is recall."
   ]
  },
  {
   "cell_type": "markdown",
   "id": "f31ad013",
   "metadata": {},
   "source": [
    "Let's compute F1 for all thresholds from 0.0 to 1.0 with increment 0.01"
   ]
  },
  {
   "cell_type": "code",
   "execution_count": 118,
   "id": "2d777ea1",
   "metadata": {},
   "outputs": [
    {
     "data": {
      "text/html": [
       "<div>\n",
       "<style scoped>\n",
       "    .dataframe tbody tr th:only-of-type {\n",
       "        vertical-align: middle;\n",
       "    }\n",
       "\n",
       "    .dataframe tbody tr th {\n",
       "        vertical-align: top;\n",
       "    }\n",
       "\n",
       "    .dataframe thead th {\n",
       "        text-align: right;\n",
       "    }\n",
       "</style>\n",
       "<table border=\"1\" class=\"dataframe\">\n",
       "  <thead>\n",
       "    <tr style=\"text-align: right;\">\n",
       "      <th></th>\n",
       "      <th>threshold</th>\n",
       "      <th>tp</th>\n",
       "      <th>fp</th>\n",
       "      <th>fn</th>\n",
       "      <th>tn</th>\n",
       "      <th>precision</th>\n",
       "      <th>recall</th>\n",
       "      <th>F1_score</th>\n",
       "    </tr>\n",
       "  </thead>\n",
       "  <tbody>\n",
       "    <tr>\n",
       "      <th>0</th>\n",
       "      <td>0.00</td>\n",
       "      <td>246</td>\n",
       "      <td>645</td>\n",
       "      <td>0</td>\n",
       "      <td>0</td>\n",
       "      <td>0.276094</td>\n",
       "      <td>1.000000</td>\n",
       "      <td>0.432718</td>\n",
       "    </tr>\n",
       "    <tr>\n",
       "      <th>1</th>\n",
       "      <td>0.01</td>\n",
       "      <td>246</td>\n",
       "      <td>635</td>\n",
       "      <td>0</td>\n",
       "      <td>10</td>\n",
       "      <td>0.279228</td>\n",
       "      <td>1.000000</td>\n",
       "      <td>0.436557</td>\n",
       "    </tr>\n",
       "    <tr>\n",
       "      <th>2</th>\n",
       "      <td>0.02</td>\n",
       "      <td>244</td>\n",
       "      <td>613</td>\n",
       "      <td>2</td>\n",
       "      <td>32</td>\n",
       "      <td>0.284714</td>\n",
       "      <td>0.991870</td>\n",
       "      <td>0.442430</td>\n",
       "    </tr>\n",
       "    <tr>\n",
       "      <th>3</th>\n",
       "      <td>0.03</td>\n",
       "      <td>242</td>\n",
       "      <td>593</td>\n",
       "      <td>4</td>\n",
       "      <td>52</td>\n",
       "      <td>0.289820</td>\n",
       "      <td>0.983740</td>\n",
       "      <td>0.447734</td>\n",
       "    </tr>\n",
       "    <tr>\n",
       "      <th>4</th>\n",
       "      <td>0.04</td>\n",
       "      <td>242</td>\n",
       "      <td>563</td>\n",
       "      <td>4</td>\n",
       "      <td>82</td>\n",
       "      <td>0.300621</td>\n",
       "      <td>0.983740</td>\n",
       "      <td>0.460514</td>\n",
       "    </tr>\n",
       "    <tr>\n",
       "      <th>...</th>\n",
       "      <td>...</td>\n",
       "      <td>...</td>\n",
       "      <td>...</td>\n",
       "      <td>...</td>\n",
       "      <td>...</td>\n",
       "      <td>...</td>\n",
       "      <td>...</td>\n",
       "      <td>...</td>\n",
       "    </tr>\n",
       "    <tr>\n",
       "      <th>89</th>\n",
       "      <td>0.89</td>\n",
       "      <td>7</td>\n",
       "      <td>2</td>\n",
       "      <td>239</td>\n",
       "      <td>643</td>\n",
       "      <td>0.777778</td>\n",
       "      <td>0.028455</td>\n",
       "      <td>0.054902</td>\n",
       "    </tr>\n",
       "    <tr>\n",
       "      <th>90</th>\n",
       "      <td>0.90</td>\n",
       "      <td>6</td>\n",
       "      <td>2</td>\n",
       "      <td>240</td>\n",
       "      <td>643</td>\n",
       "      <td>0.750000</td>\n",
       "      <td>0.024390</td>\n",
       "      <td>0.047244</td>\n",
       "    </tr>\n",
       "    <tr>\n",
       "      <th>91</th>\n",
       "      <td>0.91</td>\n",
       "      <td>4</td>\n",
       "      <td>1</td>\n",
       "      <td>242</td>\n",
       "      <td>644</td>\n",
       "      <td>0.800000</td>\n",
       "      <td>0.016260</td>\n",
       "      <td>0.031873</td>\n",
       "    </tr>\n",
       "    <tr>\n",
       "      <th>92</th>\n",
       "      <td>0.92</td>\n",
       "      <td>4</td>\n",
       "      <td>1</td>\n",
       "      <td>242</td>\n",
       "      <td>644</td>\n",
       "      <td>0.800000</td>\n",
       "      <td>0.016260</td>\n",
       "      <td>0.031873</td>\n",
       "    </tr>\n",
       "    <tr>\n",
       "      <th>93</th>\n",
       "      <td>0.93</td>\n",
       "      <td>2</td>\n",
       "      <td>0</td>\n",
       "      <td>244</td>\n",
       "      <td>645</td>\n",
       "      <td>1.000000</td>\n",
       "      <td>0.008130</td>\n",
       "      <td>0.016129</td>\n",
       "    </tr>\n",
       "  </tbody>\n",
       "</table>\n",
       "<p>94 rows × 8 columns</p>\n",
       "</div>"
      ],
      "text/plain": [
       "    threshold   tp   fp   fn   tn  precision    recall  F1_score\n",
       "0        0.00  246  645    0    0   0.276094  1.000000  0.432718\n",
       "1        0.01  246  635    0   10   0.279228  1.000000  0.436557\n",
       "2        0.02  244  613    2   32   0.284714  0.991870  0.442430\n",
       "3        0.03  242  593    4   52   0.289820  0.983740  0.447734\n",
       "4        0.04  242  563    4   82   0.300621  0.983740  0.460514\n",
       "..        ...  ...  ...  ...  ...        ...       ...       ...\n",
       "89       0.89    7    2  239  643   0.777778  0.028455  0.054902\n",
       "90       0.90    6    2  240  643   0.750000  0.024390  0.047244\n",
       "91       0.91    4    1  242  644   0.800000  0.016260  0.031873\n",
       "92       0.92    4    1  242  644   0.800000  0.016260  0.031873\n",
       "93       0.93    2    0  244  645   1.000000  0.008130  0.016129\n",
       "\n",
       "[94 rows x 8 columns]"
      ]
     },
     "execution_count": 118,
     "metadata": {},
     "output_type": "execute_result"
    }
   ],
   "source": [
    "pr[\"F1_score\"] = 2*(pr [\"precision\"]*pr [\"recall\"])/(pr[\"precision\"]+ pr[\"recall\"])\n",
    "pr[pr[\"F1_score\"] == pr.F1_score]"
   ]
  },
  {
   "cell_type": "markdown",
   "id": "b32f4823",
   "metadata": {},
   "source": [
    "At which threshold F1 is maximal?"
   ]
  },
  {
   "cell_type": "markdown",
   "id": "e1bc3248",
   "metadata": {},
   "source": [
    "- 0.1\n",
    "- 0.3 -> threshold of f1 max\n",
    "- 0.5\n",
    "- 0.7\n"
   ]
  },
  {
   "cell_type": "code",
   "execution_count": 119,
   "id": "a05aaa70",
   "metadata": {},
   "outputs": [
    {
     "data": {
      "text/html": [
       "<div>\n",
       "<style scoped>\n",
       "    .dataframe tbody tr th:only-of-type {\n",
       "        vertical-align: middle;\n",
       "    }\n",
       "\n",
       "    .dataframe tbody tr th {\n",
       "        vertical-align: top;\n",
       "    }\n",
       "\n",
       "    .dataframe thead th {\n",
       "        text-align: right;\n",
       "    }\n",
       "</style>\n",
       "<table border=\"1\" class=\"dataframe\">\n",
       "  <thead>\n",
       "    <tr style=\"text-align: right;\">\n",
       "      <th></th>\n",
       "      <th>threshold</th>\n",
       "      <th>tp</th>\n",
       "      <th>fp</th>\n",
       "      <th>fn</th>\n",
       "      <th>tn</th>\n",
       "      <th>precision</th>\n",
       "      <th>recall</th>\n",
       "      <th>F1_score</th>\n",
       "    </tr>\n",
       "  </thead>\n",
       "  <tbody>\n",
       "    <tr>\n",
       "      <th>30</th>\n",
       "      <td>0.3</td>\n",
       "      <td>187</td>\n",
       "      <td>162</td>\n",
       "      <td>59</td>\n",
       "      <td>483</td>\n",
       "      <td>0.535817</td>\n",
       "      <td>0.760163</td>\n",
       "      <td>0.628571</td>\n",
       "    </tr>\n",
       "  </tbody>\n",
       "</table>\n",
       "</div>"
      ],
      "text/plain": [
       "    threshold   tp   fp  fn   tn  precision    recall  F1_score\n",
       "30        0.3  187  162  59  483   0.535817  0.760163  0.628571"
      ]
     },
     "execution_count": 119,
     "metadata": {},
     "output_type": "execute_result"
    }
   ],
   "source": [
    "pr[\"F1_score\"] = 2*(pr [\"precision\"]*pr [\"recall\"])/(pr[\"precision\"]+ pr[\"recall\"])\n",
    "pr[pr[\"F1_score\"] == pr.F1_score.max()]"
   ]
  },
  {
   "cell_type": "markdown",
   "id": "79aab5c8",
   "metadata": {},
   "source": [
    "# Question 5"
   ]
  },
  {
   "cell_type": "markdown",
   "id": "581c6383",
   "metadata": {},
   "source": [
    "Use the KFold class from Scikit-Learn to evaluate our model on 5 different folds:"
   ]
  },
  {
   "cell_type": "markdown",
   "id": "0602eb44",
   "metadata": {},
   "source": [
    "KFold(n_splits=5, shuffle=True, random_state=1)"
   ]
  },
  {
   "cell_type": "markdown",
   "id": "2c65e1bc",
   "metadata": {},
   "source": [
    "- Iterate over different folds of df_full_train\n",
    "- Split the data into train and validation\n",
    "- Train the model on train with these parameters: LogisticRegression(solver='liblinear', C=1.0, max_iter=1000)\n",
    "- Use AUC to evaluate the model on validation"
   ]
  },
  {
   "cell_type": "code",
   "execution_count": 98,
   "id": "d85d3b3b",
   "metadata": {},
   "outputs": [],
   "source": [
    "def train(df_train, y_train, C=1.0):\n",
    "    dicts = df_train[features].to_dict(orient='records')\n",
    "\n",
    "    dv = DictVectorizer(sparse=False)\n",
    "    X_train = dv.fit_transform(dicts)\n",
    "\n",
    "    model = LogisticRegression(solver='liblinear', C=C, max_iter=1000)\n",
    "    model.fit(X_train, y_train)\n",
    "    \n",
    "    return dv, model"
   ]
  },
  {
   "cell_type": "code",
   "execution_count": 99,
   "id": "4e29f31b",
   "metadata": {},
   "outputs": [],
   "source": [
    "def predict(df, dv, model):\n",
    "    dicts = df[features].to_dict(orient='records')\n",
    "\n",
    "    X = dv.transform(dicts)\n",
    "    y_pred = model.predict_proba(X)[:, 1]\n",
    "\n",
    "    return y_pred"
   ]
  },
  {
   "cell_type": "code",
   "execution_count": 100,
   "id": "85864d48",
   "metadata": {},
   "outputs": [],
   "source": [
    "from sklearn.model_selection import KFold"
   ]
  },
  {
   "cell_type": "code",
   "execution_count": 104,
   "id": "97b6e6ec",
   "metadata": {},
   "outputs": [
    {
     "name": "stdout",
     "output_type": "stream",
     "text": [
      "Mean: 0.8142\n",
      " Std: 0.0146\n"
     ]
    }
   ],
   "source": [
    "kfold = KFold(n_splits=5, shuffle=True, random_state=1)\n",
    "\n",
    "scores = []\n",
    "\n",
    "for train_idx, val_idx in kfold.split(df_full_train):\n",
    "    df_train = df_full_train.iloc[train_idx]\n",
    "    df_val = df_full_train.iloc[val_idx]\n",
    "\n",
    "    y_train = df_train.default.values\n",
    "    y_val = df_val.default.values\n",
    "\n",
    "    dv, model = train(df_train, y_train)\n",
    "    y_pred = predict(df_val, dv, model)\n",
    "\n",
    "    auc = roc_auc_score(y_val, y_pred)\n",
    "    scores.append(auc)\n",
    "\n",
    "print(f'Mean: {round(np.mean(scores),4)}\\n Std: {round(np.std(scores),4)}')"
   ]
  },
  {
   "cell_type": "markdown",
   "id": "16688ee0",
   "metadata": {},
   "source": [
    "How large is standard devidation of the scores across different folds?\n",
    "\n"
   ]
  },
  {
   "cell_type": "markdown",
   "id": "f5dcfc6e",
   "metadata": {},
   "source": [
    "- 0.001\n",
    "- 0.014 --> std\n",
    "- 0.09\n",
    "- 0.14"
   ]
  },
  {
   "cell_type": "markdown",
   "id": "fada26a3",
   "metadata": {},
   "source": [
    "# Question 6"
   ]
  },
  {
   "cell_type": "markdown",
   "id": "cca8fc44",
   "metadata": {},
   "source": [
    "Now let's use 5-Fold cross-validation to find the best parameter C"
   ]
  },
  {
   "cell_type": "markdown",
   "id": "773bf7ff",
   "metadata": {},
   "source": [
    "- Iterate over the following C values: [0.01, 0.1, 1, 10]\n",
    "- Initialize KFold with the same parameters as previously\n",
    "- Use these parametes for the model: LogisticRegression(solver='liblinear', C=C, max_iter=1000)\n",
    "- Compute the mean score as well as the std (round the mean and std to 3 decimal digits)"
   ]
  },
  {
   "cell_type": "code",
   "execution_count": 109,
   "id": "244568e1",
   "metadata": {},
   "outputs": [
    {
     "name": "stdout",
     "output_type": "stream",
     "text": [
      "C=0.01, auc = 0.808 ± 0.012\n",
      "C=0.1, auc = 0.813 ± 0.014\n",
      "C=1, auc = 0.814 ± 0.015\n",
      "C=10, auc = 0.814 ± 0.015\n"
     ]
    }
   ],
   "source": [
    "nfolds = 5\n",
    "kfold = KFold(n_splits=nfolds, shuffle=True, random_state=1)\n",
    "\n",
    "for C in [0.01, 0.1, 1, 10]:\n",
    "    aucs = []\n",
    "\n",
    "    for train_idx, val_idx in kfold.split(df_full_train):\n",
    "        df_train = df_full_train.iloc[train_idx]\n",
    "        df_val = df_full_train.iloc[val_idx]\n",
    "\n",
    "        y_train = df_train.default.values\n",
    "        y_val = df_val.default.values\n",
    "\n",
    "        dv, model = train(df_train, y_train, C=C)\n",
    "        y_pred = predict(df_val, dv, model)\n",
    "        \n",
    "        auc = roc_auc_score(y_val, y_pred)\n",
    "        aucs.append(auc)\n",
    "\n",
    "    print('C=%s, auc = %0.3f ± %0.3f' % (C, np.mean(aucs), np.std(aucs)))"
   ]
  },
  {
   "cell_type": "markdown",
   "id": "c943efda",
   "metadata": {},
   "source": [
    "Which C leads to the best mean score?"
   ]
  },
  {
   "cell_type": "markdown",
   "id": "0fc6fc50",
   "metadata": {},
   "source": [
    "- 0.01\n",
    "- 0.1\n",
    "- 1 -> best mean score \n",
    "- 10"
   ]
  },
  {
   "cell_type": "markdown",
   "id": "4442d70f",
   "metadata": {},
   "source": [
    "If you have ties, select the score with the lowest std. If you still have ties, select the smallest C"
   ]
  },
  {
   "cell_type": "markdown",
   "id": "fa4656c2",
   "metadata": {},
   "source": [
    "# THANK YOU :) "
   ]
  },
  {
   "cell_type": "code",
   "execution_count": null,
   "id": "4914734e",
   "metadata": {},
   "outputs": [],
   "source": []
  }
 ],
 "metadata": {
  "kernelspec": {
   "display_name": "Python 3 (ipykernel)",
   "language": "python",
   "name": "python3"
  },
  "language_info": {
   "codemirror_mode": {
    "name": "ipython",
    "version": 3
   },
   "file_extension": ".py",
   "mimetype": "text/x-python",
   "name": "python",
   "nbconvert_exporter": "python",
   "pygments_lexer": "ipython3",
   "version": "3.8.11"
  }
 },
 "nbformat": 4,
 "nbformat_minor": 5
}
